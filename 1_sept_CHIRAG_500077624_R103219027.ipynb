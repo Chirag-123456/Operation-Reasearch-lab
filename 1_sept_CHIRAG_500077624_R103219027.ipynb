{
  "nbformat": 4,
  "nbformat_minor": 0,
  "metadata": {
    "colab": {
      "name": "1_sept_CHIRAG_500077624_R103219027",
      "provenance": [],
      "collapsed_sections": [],
      "authorship_tag": "ABX9TyNDd9mS4WMdlotQcd+hjeQ7",
      "include_colab_link": true
    },
    "kernelspec": {
      "name": "python3",
      "display_name": "Python 3"
    },
    "language_info": {
      "name": "python"
    }
  },
  "cells": [
    {
      "cell_type": "markdown",
      "metadata": {
        "id": "view-in-github",
        "colab_type": "text"
      },
      "source": [
        "<a href=\"https://colab.research.google.com/github/Chirag-123456/Operation-Reasearch-lab/blob/main/1_sept_CHIRAG_500077624_R103219027.ipynb\" target=\"_parent\"><img src=\"https://colab.research.google.com/assets/colab-badge.svg\" alt=\"Open In Colab\"/></a>"
      ]
    },
    {
      "cell_type": "markdown",
      "metadata": {
        "id": "9cs0Qvgi13U0"
      },
      "source": [
        "\n",
        "EXPERIMENT 4"
      ]
    },
    {
      "cell_type": "markdown",
      "metadata": {
        "id": "JH5dI4nM16Sv"
      },
      "source": [
        "INTEGER PROGRAMMING PROBLEM (IPP)"
      ]
    },
    {
      "cell_type": "markdown",
      "metadata": {
        "id": "7OZ9foTA19k3"
      },
      "source": [
        "QUESTION 1:"
      ]
    },
    {
      "cell_type": "code",
      "metadata": {
        "id": "CxfidHB-2AaB"
      },
      "source": [
        "import cvxpy as cp"
      ],
      "execution_count": null,
      "outputs": []
    },
    {
      "cell_type": "code",
      "metadata": {
        "colab": {
          "base_uri": "https://localhost:8080/"
        },
        "id": "ndrCtNXw2C8v",
        "outputId": "4907d7e5-3ec4-4cee-9038-5108a0898379"
      },
      "source": [
        "x1 = cp.Variable()\n",
        "x2 = cp.Variable()\n",
        "objective = cp.Maximize( 7*x1 + 10*x2 )\n",
        "constraints = [-1*x1 + 3*x2 <= 6 , 7*x1 + x2 <=35 ]\n",
        "prob = cp.Problem(objective , constraints)\n",
        "prob.solve()"
      ],
      "execution_count": null,
      "outputs": [
        {
          "output_type": "execute_result",
          "data": {
            "text/plain": [
              "66.49999997691361"
            ]
          },
          "metadata": {},
          "execution_count": 4
        }
      ]
    },
    {
      "cell_type": "markdown",
      "metadata": {
        "id": "Yx5ceaXB2Plf"
      },
      "source": [
        "QUESTION 2 :"
      ]
    },
    {
      "cell_type": "code",
      "metadata": {
        "colab": {
          "base_uri": "https://localhost:8080/"
        },
        "id": "pQCzKe1h2SQL",
        "outputId": "10cfa6f4-6ad5-485b-dfc0-7fb06596f46b"
      },
      "source": [
        "x1 = cp.Variable()\n",
        "x2 = cp.Variable()\n",
        "objective = cp.Maximize( 5*x1 + 8*x2 )\n",
        "constraints = [ 1*x1 + 1*x2 <= 6 , 5*x1 + 9*x2 <=45]\n",
        "prob = cp.Problem(objective,constraints)\n",
        "prob.solve()"
      ],
      "execution_count": null,
      "outputs": [
        {
          "output_type": "execute_result",
          "data": {
            "text/plain": [
              "41.25000000018229"
            ]
          },
          "metadata": {},
          "execution_count": 5
        }
      ]
    },
    {
      "cell_type": "markdown",
      "metadata": {
        "id": "bQpSw91f2W05"
      },
      "source": [
        "QUESTION 3"
      ]
    },
    {
      "cell_type": "code",
      "metadata": {
        "colab": {
          "base_uri": "https://localhost:8080/"
        },
        "id": "ceclMGCZ2Z5o",
        "outputId": "cb00240b-170a-4515-c43f-314172ac7f7f"
      },
      "source": [
        "x1 = cp.Variable(integer = True)\n",
        "x2 = cp.Variable(integer = True)\n",
        "objective = cp.Maximize( 10*x1 + 12*x2 )\n",
        "constraints = [ x1 + x2 <= 35,\n",
        "               25*x1-12*x2 <= 0,\n",
        "               12*x1-10*x2 <= 0,\n",
        "               x1>=0,\n",
        "               x2>=0]\n",
        "prob = cp.Problem(objective, constraints)\n",
        "prob.solve()\n",
        "\n",
        "print(\"Value of x1 :\", x1.value)\n",
        "print(\"Value of x2:\", x2.value)\n",
        "print(\"Value of obj:\",prob.value)\n"
      ],
      "execution_count": null,
      "outputs": [
        {
          "output_type": "stream",
          "name": "stdout",
          "text": [
            "Value of x1 : 0.0\n",
            "Value of x2: 35.0\n",
            "Value of obj: 420.0\n"
          ]
        }
      ]
    }
  ]
}
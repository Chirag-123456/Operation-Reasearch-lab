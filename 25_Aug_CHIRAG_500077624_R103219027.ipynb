{
  "nbformat": 4,
  "nbformat_minor": 0,
  "metadata": {
    "colab": {
      "name": "25_Aug_CHIRAG_500077624_R103219027.ipynb",
      "provenance": [],
      "collapsed_sections": [],
      "authorship_tag": "ABX9TyOkBKu2Lb8V07WoWpJRQZoJ",
      "include_colab_link": true
    },
    "kernelspec": {
      "name": "python3",
      "display_name": "Python 3"
    },
    "language_info": {
      "name": "python"
    }
  },
  "cells": [
    {
      "cell_type": "markdown",
      "metadata": {
        "id": "view-in-github",
        "colab_type": "text"
      },
      "source": [
        "<a href=\"https://colab.research.google.com/github/Chirag-123456/Operation-Reasearch-lab/blob/main/25_Aug_CHIRAG_500077624_R103219027.ipynb\" target=\"_parent\"><img src=\"https://colab.research.google.com/assets/colab-badge.svg\" alt=\"Open In Colab\"/></a>"
      ]
    },
    {
      "cell_type": "code",
      "metadata": {
        "id": "UQRGMXUmAkNv"
      },
      "source": [
        ""
      ],
      "execution_count": null,
      "outputs": []
    },
    {
      "cell_type": "markdown",
      "metadata": {
        "id": "2poqBnnzAujU"
      },
      "source": [
        "EXPERIMENT 2,3"
      ]
    },
    {
      "cell_type": "markdown",
      "metadata": {
        "id": "1mzQQiXaAxH-"
      },
      "source": [
        "BASIC LINEAR PROGRAMMING PROBLEM (LPP)"
      ]
    },
    {
      "cell_type": "markdown",
      "metadata": {
        "id": "R5OuJMtkAxxB"
      },
      "source": [
        "QUESTION 1:"
      ]
    },
    {
      "cell_type": "code",
      "metadata": {
        "id": "6I4zAzXABBNs"
      },
      "source": [
        "from scipy.optimize import linprog"
      ],
      "execution_count": 1,
      "outputs": []
    },
    {
      "cell_type": "code",
      "metadata": {
        "id": "eIB53wkWBEAK"
      },
      "source": [
        "obj = [-40,-35]"
      ],
      "execution_count": 2,
      "outputs": []
    },
    {
      "cell_type": "code",
      "metadata": {
        "id": "3Hqa63jlBGM5"
      },
      "source": [
        "lhs_ineq = [[2,3] , [4,3]]\n",
        "rhs_ineq = [60,96]"
      ],
      "execution_count": 3,
      "outputs": []
    },
    {
      "cell_type": "code",
      "metadata": {
        "id": "9icXDmpmBJl4"
      },
      "source": [
        "bnd = [(0, float(\"inf\")), (0, float(\"inf\"))]"
      ],
      "execution_count": 4,
      "outputs": []
    },
    {
      "cell_type": "code",
      "metadata": {
        "id": "F5QaU4qLBMJQ"
      },
      "source": [
        "opt = linprog(c=obj , A_ub=lhs_ineq , b_ub=rhs_ineq ,\n",
        "              bounds=bnd,\n",
        "              method=\"revised simplex\")"
      ],
      "execution_count": 5,
      "outputs": []
    },
    {
      "cell_type": "code",
      "metadata": {
        "colab": {
          "base_uri": "https://localhost:8080/"
        },
        "id": "SwEenUFKBRXS",
        "outputId": "0346743d-a79f-4416-87f8-004e7484bb00"
      },
      "source": [
        "opt"
      ],
      "execution_count": 6,
      "outputs": [
        {
          "output_type": "execute_result",
          "data": {
            "text/plain": [
              "     con: array([], dtype=float64)\n",
              "     fun: -1000.0\n",
              " message: 'Optimization terminated successfully.'\n",
              "     nit: 2\n",
              "   slack: array([0., 0.])\n",
              "  status: 0\n",
              " success: True\n",
              "       x: array([18.,  8.])"
            ]
          },
          "metadata": {},
          "execution_count": 6
        }
      ]
    },
    {
      "cell_type": "markdown",
      "metadata": {
        "id": "enY6vLLSBYYB"
      },
      "source": [
        "QUESTION 2:"
      ]
    },
    {
      "cell_type": "code",
      "metadata": {
        "id": "PUGLDEoSBbXi"
      },
      "source": [
        "from scipy.optimize import linprog"
      ],
      "execution_count": 7,
      "outputs": []
    },
    {
      "cell_type": "code",
      "metadata": {
        "id": "11zJ2e8YBeGj"
      },
      "source": [
        "obj = [40,24]"
      ],
      "execution_count": 8,
      "outputs": []
    },
    {
      "cell_type": "code",
      "metadata": {
        "id": "jT0EHKUmBgkQ"
      },
      "source": [
        "lhs_ineq = [[-20,-50] , [-80,-50]]\n",
        "rhs_ineq = [-4800 , -7200]"
      ],
      "execution_count": 9,
      "outputs": []
    },
    {
      "cell_type": "code",
      "metadata": {
        "id": "WDcWB5UYBi8L"
      },
      "source": [
        "bnd = [(0,float(\"inf\")) , (0,float(\"inf\"))]"
      ],
      "execution_count": 10,
      "outputs": []
    },
    {
      "cell_type": "code",
      "metadata": {
        "id": "sh-PzIFEBlFQ"
      },
      "source": [
        "opt = linprog (c=obj , A_ub = lhs_ineq , b_ub=rhs_ineq ,\n",
        "               bounds = bnd ,\n",
        "               method = \"revised simplex\")"
      ],
      "execution_count": 11,
      "outputs": []
    },
    {
      "cell_type": "code",
      "metadata": {
        "colab": {
          "base_uri": "https://localhost:8080/"
        },
        "id": "JIe6UxsyBm_o",
        "outputId": "593573f7-8227-4f74-ce35-ae3a2b06a43d"
      },
      "source": [
        "opt"
      ],
      "execution_count": 12,
      "outputs": [
        {
          "output_type": "execute_result",
          "data": {
            "text/plain": [
              "     con: array([], dtype=float64)\n",
              "     fun: 3456.0\n",
              " message: 'Optimization terminated successfully.'\n",
              "     nit: 3\n",
              "   slack: array([2400.,    0.])\n",
              "  status: 0\n",
              " success: True\n",
              "       x: array([  0., 144.])"
            ]
          },
          "metadata": {},
          "execution_count": 12
        }
      ]
    },
    {
      "cell_type": "markdown",
      "metadata": {
        "id": "KGVeRanVBxNp"
      },
      "source": [
        "QUESTION 3"
      ]
    },
    {
      "cell_type": "code",
      "metadata": {
        "id": "dWcJPNXnBzqo"
      },
      "source": [
        "from scipy.optimize import linprog"
      ],
      "execution_count": 13,
      "outputs": []
    },
    {
      "cell_type": "code",
      "metadata": {
        "id": "dCrUI1OhB8Y0"
      },
      "source": [
        "obj = [-5,-2]"
      ],
      "execution_count": 14,
      "outputs": []
    },
    {
      "cell_type": "code",
      "metadata": {
        "id": "gEjvYxskB1a3"
      },
      "source": [
        "lhs_ineq = [[10,2] , [1,0.5] ]\n",
        "rhs_ineq = [2100 , 600 ]"
      ],
      "execution_count": 15,
      "outputs": []
    },
    {
      "cell_type": "code",
      "metadata": {
        "id": "6KDUuodlB3t8"
      },
      "source": [
        "bnd = [(0,float(\"inf\")) , (800,float(\"inf\"))]"
      ],
      "execution_count": 16,
      "outputs": []
    },
    {
      "cell_type": "code",
      "metadata": {
        "id": "MKN2QQ62B52n"
      },
      "source": [
        "opt = linprog(c=obj , A_ub = lhs_ineq , b_ub = rhs_ineq ,\n",
        "              bounds = bnd ,\n",
        "              method = \"revised simplex\")"
      ],
      "execution_count": 17,
      "outputs": []
    },
    {
      "cell_type": "code",
      "metadata": {
        "colab": {
          "base_uri": "https://localhost:8080/"
        },
        "id": "tXr1DyVXCAIb",
        "outputId": "1c1aae3f-2381-474f-da65-ab6090ce0901"
      },
      "source": [
        "opt"
      ],
      "execution_count": 18,
      "outputs": [
        {
          "output_type": "execute_result",
          "data": {
            "text/plain": [
              "     con: array([], dtype=float64)\n",
              "     fun: -2100.0\n",
              " message: 'Optimization terminated successfully.'\n",
              "     nit: 2\n",
              "   slack: array([ 0., 75.])\n",
              "  status: 0\n",
              " success: True\n",
              "       x: array([   0., 1050.])"
            ]
          },
          "metadata": {},
          "execution_count": 18
        }
      ]
    },
    {
      "cell_type": "markdown",
      "metadata": {
        "id": "M-3Ay-7kCWNc"
      },
      "source": [
        "QUESTION 4"
      ]
    },
    {
      "cell_type": "code",
      "metadata": {
        "id": "GCIzsg77CYTx"
      },
      "source": [
        "from scipy.optimize import linprog"
      ],
      "execution_count": 19,
      "outputs": []
    },
    {
      "cell_type": "code",
      "metadata": {
        "id": "ryYP4GBsCa7R"
      },
      "source": [
        "obj = [-60,-40]"
      ],
      "execution_count": 20,
      "outputs": []
    },
    {
      "cell_type": "code",
      "metadata": {
        "id": "Z7A3rQQVCdXl"
      },
      "source": [
        "lhs_ineq = [[2,1]]\n",
        "rhs_ineq = [60]"
      ],
      "execution_count": 21,
      "outputs": []
    },
    {
      "cell_type": "code",
      "metadata": {
        "id": "M_PIeykRCfuM"
      },
      "source": [
        "bnd = [(0,25) , (0,35)]"
      ],
      "execution_count": 22,
      "outputs": []
    },
    {
      "cell_type": "code",
      "metadata": {
        "id": "XGbpzkpBCiTZ"
      },
      "source": [
        "opt = linprog(c=obj , A_ub = lhs_ineq , b_ub = rhs_ineq , \n",
        "              bounds = bnd ,\n",
        "              method = \"revised simplex\")"
      ],
      "execution_count": 23,
      "outputs": []
    },
    {
      "cell_type": "code",
      "metadata": {
        "colab": {
          "base_uri": "https://localhost:8080/"
        },
        "id": "jRSF6qaVCkzh",
        "outputId": "a9fcdfab-e558-46e0-f573-684353af70cb"
      },
      "source": [
        "opt"
      ],
      "execution_count": 24,
      "outputs": [
        {
          "output_type": "execute_result",
          "data": {
            "text/plain": [
              "     con: array([], dtype=float64)\n",
              "     fun: -2150.0\n",
              " message: 'Optimization terminated successfully.'\n",
              "     nit: 3\n",
              "   slack: array([0.])\n",
              "  status: 0\n",
              " success: True\n",
              "       x: array([12.5, 35. ])"
            ]
          },
          "metadata": {},
          "execution_count": 24
        }
      ]
    },
    {
      "cell_type": "markdown",
      "metadata": {
        "id": "HKtwaLTBCpjE"
      },
      "source": [
        "QUESTION 5"
      ]
    },
    {
      "cell_type": "code",
      "metadata": {
        "id": "sAnT1WhnCtA0"
      },
      "source": [
        "from scipy.optimize import linprog"
      ],
      "execution_count": 25,
      "outputs": []
    },
    {
      "cell_type": "code",
      "metadata": {
        "id": "QSJXM8CVCvCa"
      },
      "source": [
        "obj = [20,10]"
      ],
      "execution_count": 26,
      "outputs": []
    },
    {
      "cell_type": "code",
      "metadata": {
        "id": "ZfRLRRR2CxKa"
      },
      "source": [
        "lhs_ineq = [[1,2] , [-3,-1] , [-4,-3]]\n",
        "rhs_ineq = [40,-30,-60]"
      ],
      "execution_count": 27,
      "outputs": []
    },
    {
      "cell_type": "code",
      "metadata": {
        "id": "nHG7SQ0tCzeD"
      },
      "source": [
        "bnd = [(0,float(\"inf\")) , (0,float(\"inf\"))]"
      ],
      "execution_count": 28,
      "outputs": []
    },
    {
      "cell_type": "code",
      "metadata": {
        "id": "ODmhpexeC2oh"
      },
      "source": [
        "opt = linprog(c=obj , A_ub=lhs_ineq , b_ub = rhs_ineq ,\n",
        "              bounds =bnd , \n",
        "              method = \"revised simplex\")"
      ],
      "execution_count": 29,
      "outputs": []
    },
    {
      "cell_type": "code",
      "metadata": {
        "colab": {
          "base_uri": "https://localhost:8080/"
        },
        "id": "2pEgK25HC44d",
        "outputId": "0b3b3499-5f61-42ca-ee95-7bdc7fa0bbbb"
      },
      "source": [
        "opt"
      ],
      "execution_count": 30,
      "outputs": [
        {
          "output_type": "execute_result",
          "data": {
            "text/plain": [
              "     con: array([], dtype=float64)\n",
              "     fun: 240.0\n",
              " message: 'Optimization terminated successfully.'\n",
              "     nit: 2\n",
              "   slack: array([10.,  0.,  0.])\n",
              "  status: 0\n",
              " success: True\n",
              "       x: array([ 6., 12.])"
            ]
          },
          "metadata": {},
          "execution_count": 30
        }
      ]
    },
    {
      "cell_type": "markdown",
      "metadata": {
        "id": "WcgvYBXZC98q"
      },
      "source": [
        "QUESTION 6"
      ]
    },
    {
      "cell_type": "code",
      "metadata": {
        "id": "wjEasRW7C-j7"
      },
      "source": [
        "from scipy.optimize import linprog"
      ],
      "execution_count": 31,
      "outputs": []
    },
    {
      "cell_type": "code",
      "metadata": {
        "id": "SvAN0wZEDCdU"
      },
      "source": [
        "obj = [-1, -1, -3]"
      ],
      "execution_count": 32,
      "outputs": []
    },
    {
      "cell_type": "code",
      "metadata": {
        "id": "Uiope_dKDEYy"
      },
      "source": [
        "lhs_ineq = [[3, 2, 1] , [2, 1, 2]]\n",
        "rhs_ineq = [300,200]"
      ],
      "execution_count": 33,
      "outputs": []
    },
    {
      "cell_type": "code",
      "metadata": {
        "id": "gc53uLVMDG6u"
      },
      "source": [
        "bnd = [(0, float(\"inf\")) , (0,float(\"inf\")) , (0, float(\"inf\"))]"
      ],
      "execution_count": 34,
      "outputs": []
    },
    {
      "cell_type": "code",
      "metadata": {
        "id": "U_Q_rwxFDJUz"
      },
      "source": [
        "opt = linprog(c=obj , A_ub = lhs_ineq , b_ub = rhs_ineq ,\n",
        "              bounds = bnd ,\n",
        "              method = \"revised simplex\")"
      ],
      "execution_count": 35,
      "outputs": []
    },
    {
      "cell_type": "code",
      "metadata": {
        "colab": {
          "base_uri": "https://localhost:8080/"
        },
        "id": "4hQxRF_nDL7O",
        "outputId": "865ccfb9-85b7-48bb-9523-419297f26950"
      },
      "source": [
        "opt"
      ],
      "execution_count": 36,
      "outputs": [
        {
          "output_type": "execute_result",
          "data": {
            "text/plain": [
              "     con: array([], dtype=float64)\n",
              "     fun: -300.0\n",
              " message: 'Optimization terminated successfully.'\n",
              "     nit: 1\n",
              "   slack: array([200.,   0.])\n",
              "  status: 0\n",
              " success: True\n",
              "       x: array([  0.,   0., 100.])"
            ]
          },
          "metadata": {},
          "execution_count": 36
        }
      ]
    }
  ]
}
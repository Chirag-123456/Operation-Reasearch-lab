{
  "nbformat": 4,
  "nbformat_minor": 0,
  "metadata": {
    "colab": {
      "name": "Exp11_Chirag_R103219027.ipynb",
      "provenance": [],
      "authorship_tag": "ABX9TyMXWJO2+7trmqW2aFeV/6HL",
      "include_colab_link": true
    },
    "kernelspec": {
      "name": "python3",
      "display_name": "Python 3"
    },
    "language_info": {
      "name": "python"
    }
  },
  "cells": [
    {
      "cell_type": "markdown",
      "metadata": {
        "id": "view-in-github",
        "colab_type": "text"
      },
      "source": [
        "<a href=\"https://colab.research.google.com/github/Chirag-123456/Operation-Reasearch-lab/blob/main/Exp11_Chirag_R103219027.ipynb\" target=\"_parent\"><img src=\"https://colab.research.google.com/assets/colab-badge.svg\" alt=\"Open In Colab\"/></a>"
      ]
    },
    {
      "cell_type": "markdown",
      "source": [
        "1) A computer center has three expert programmers. The center wants three application programs to be developed. The head of the computer center, after studying carefully the programmers to be deployed, estimates the computer time in minutes required by the experts for the application programmers as follows:"
      ],
      "metadata": {
        "id": "j9wPnpatd-PV"
      }
    },
    {
      "cell_type": "code",
      "source": [
        "import numpy as np\n",
        "from scipy.optimize import linear_sum_assignment\n",
        "cost_matrix = np.array([[120, 100, 80], [80, 90, 110], [110, 140, 120]])\n",
        "row_ind, col_ind = linear_sum_assignment(cost_matrix)\n",
        "opt_ass = col_ind\n",
        "tc = cost_matrix[row_ind, col_ind].sum()\n",
        "print('Total assignment cost is %d' %tc)"
      ],
      "metadata": {
        "colab": {
          "base_uri": "https://localhost:8080/"
        },
        "id": "13kWef_PeBFm",
        "outputId": "fc76f5be-490c-4795-90b9-aa9d9161616e"
      },
      "execution_count": 1,
      "outputs": [
        {
          "output_type": "stream",
          "name": "stdout",
          "text": [
            "Total assignment cost is 280\n"
          ]
        }
      ]
    },
    {
      "cell_type": "markdown",
      "source": [
        "2) A department has five employees with five jobs to be performed. The time(in hours) each men will take to perform each job is given in the effectiveness matrix."
      ],
      "metadata": {
        "id": "PNlbkDDweEzv"
      }
    },
    {
      "cell_type": "code",
      "source": [
        "cost_matrix1 = np.array([[10, 5, 13, 15, 16], [3, 9, 18, 13, 6], [10, 7, 2, 2, 2], [7, 11, 9, 7, 12], [7, 9, 10, 4 , 12]])\n",
        "row_ind1, col_ind1 = linear_sum_assignment(cost_matrix1)\n",
        "opt_ass1 = col_ind1\n",
        "tc1 = cost_matrix1[row_ind1, col_ind1].sum()\n",
        "print('Total assignment cost is %d' %tc1)"
      ],
      "metadata": {
        "colab": {
          "base_uri": "https://localhost:8080/"
        },
        "id": "5RNcNN8OeGAe",
        "outputId": "df2be919-e4cb-468f-9d83-8835f207575e"
      },
      "execution_count": 2,
      "outputs": [
        {
          "output_type": "stream",
          "name": "stdout",
          "text": [
            "Total assignment cost is 23\n"
          ]
        }
      ]
    },
    {
      "cell_type": "code",
      "source": [
        ""
      ],
      "metadata": {
        "id": "pNbtIIYTeIic"
      },
      "execution_count": null,
      "outputs": []
    }
  ]
}
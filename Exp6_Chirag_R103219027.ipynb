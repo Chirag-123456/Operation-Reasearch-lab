{
  "nbformat": 4,
  "nbformat_minor": 0,
  "metadata": {
    "colab": {
      "name": "Exp6_Chirag_R103219027.ipynb",
      "provenance": [],
      "authorship_tag": "ABX9TyO4cpMzkzaAFNtOwr5CO8Ct",
      "include_colab_link": true
    },
    "kernelspec": {
      "name": "python3",
      "display_name": "Python 3"
    },
    "language_info": {
      "name": "python"
    }
  },
  "cells": [
    {
      "cell_type": "markdown",
      "metadata": {
        "id": "view-in-github",
        "colab_type": "text"
      },
      "source": [
        "<a href=\"https://colab.research.google.com/github/Chirag-123456/Operation-Reasearch-lab/blob/main/Exp6_Chirag_R103219027.ipynb\" target=\"_parent\"><img src=\"https://colab.research.google.com/assets/colab-badge.svg\" alt=\"Open In Colab\"/></a>"
      ]
    },
    {
      "cell_type": "code",
      "execution_count": 1,
      "metadata": {
        "colab": {
          "base_uri": "https://localhost:8080/"
        },
        "id": "Hjj7phx3Zkn3",
        "outputId": "0546f11f-bc7f-4915-93fb-11a6433b4a8c"
      },
      "outputs": [
        {
          "output_type": "stream",
          "name": "stdout",
          "text": [
            "Requirement already satisfied: scipy in /usr/local/lib/python3.7/dist-packages (1.4.1)\n",
            "Requirement already satisfied: numpy>=1.13.3 in /usr/local/lib/python3.7/dist-packages (from scipy) (1.19.5)\n"
          ]
        }
      ],
      "source": [
        "!pip install scipy"
      ]
    },
    {
      "cell_type": "code",
      "source": [
        "from scipy import *"
      ],
      "metadata": {
        "id": "YLfolMdzZrF3"
      },
      "execution_count": 2,
      "outputs": []
    },
    {
      "cell_type": "markdown",
      "source": [
        "1) Consider a Belgian company Volsay, which specializes in producing ammoniac gas (NH3) and ammonium chloride (NH4Cl). Volsay has at its disposal 50 units of nitrogen (N), 180 units of hydrogen (H), and 40 units of chlorine (Cl). The company makes a profit of 40 Euros for each sale of an ammoniac gas unit and 50 Euros for each sale of an ammonium chloride unit. Volsay would like a production plan maximizing its profits given its available stocks."
      ],
      "metadata": {
        "id": "4B9vOkGNZy-v"
      }
    },
    {
      "cell_type": "code",
      "source": [
        "from scipy.optimize import linprog\n",
        "\n",
        "obj = [-40 ,-50]\n",
        "lhs_ineq = [[ 3, 4],[1, 1],[0, 1]]\n",
        "rhs_ineq = [180, 50, 40]\n",
        "bnd = [(0, float(\"inf\")), (0, float(\"inf\"))]\n",
        "opt = linprog(c=obj, A_ub=lhs_ineq, b_ub=rhs_ineq, bounds=bnd, method=\"revised simplex\")\n",
        "opt"
      ],
      "metadata": {
        "colab": {
          "base_uri": "https://localhost:8080/"
        },
        "id": "GeAu27WpZ12X",
        "outputId": "2589ba69-ed31-42f2-9c2a-94055c13f99f"
      },
      "execution_count": 3,
      "outputs": [
        {
          "output_type": "execute_result",
          "data": {
            "text/plain": [
              "     con: array([], dtype=float64)\n",
              "     fun: -2300.0\n",
              " message: 'Optimization terminated successfully.'\n",
              "     nit: 3\n",
              "   slack: array([ 0.,  0., 10.])\n",
              "  status: 0\n",
              " success: True\n",
              "       x: array([20., 30.])"
            ]
          },
          "metadata": {},
          "execution_count": 3
        }
      ]
    },
    {
      "cell_type": "markdown",
      "source": [
        "2) On October 1 a company received a contract to supply 6000 units of specialized product . the term of contract require that 1000 unit be shipped in October , 3000 units in November and 2000 units in December . the company can manufacture 1500 units in a month on a regular time and 750 units per month in overtime. The manufacturing cost per item produced in regular time is Rs 3 and the cost per item produced during overtime is Rs 5.The monthly storage cost is Rs 1.Formulate this problem as LP model so as to minimize total cost."
      ],
      "metadata": {
        "id": "WltdnqBLZ78m"
      }
    },
    {
      "cell_type": "code",
      "source": [
        "obj = [5, 4, 3, 7, 6, 5, -5000]\n",
        "lhs_ineq = [[-1, 0, 0, -1, 0, 0, 0],[-1, -1, 0, -1, -1, 0, 0]]\n",
        "rhs_ineq = [-1000, -4000]\n",
        "lhs_eq = [[1, 1, 1, 1, 1, 1, 0],[0, 0, 0, 0, 0, 0, 1]]\n",
        "rhs_eq = [6000, 1]\n",
        "bnd = [(0, 1500), (0, 1500), (0, 1500), (0,750), (0,750), (0,750), (1,1)]\n",
        "opt = linprog(c=obj,A_eq=lhs_eq, b_eq=rhs_eq, A_ub=lhs_ineq, b_ub=rhs_ineq, bounds=bnd, method=\"revised simplex\")\n",
        "opt"
      ],
      "metadata": {
        "colab": {
          "base_uri": "https://localhost:8080/"
        },
        "id": "NqT24HpPZ_Oo",
        "outputId": "b3d68ae8-10d6-42cb-89e2-4e53b3aa520e"
      },
      "execution_count": 4,
      "outputs": [
        {
          "output_type": "execute_result",
          "data": {
            "text/plain": [
              "     con: array([0., 0.])\n",
              "     fun: 21750.0\n",
              " message: 'Optimization terminated successfully.'\n",
              "     nit: 7\n",
              "   slack: array([750.,   0.])\n",
              "  status: 0\n",
              " success: True\n",
              "       x: array([1.5e+03, 1.5e+03, 1.5e+03, 2.5e+02, 7.5e+02, 5.0e+02, 1.0e+00])"
            ]
          },
          "metadata": {},
          "execution_count": 4
        }
      ]
    },
    {
      "cell_type": "markdown",
      "source": [
        "3) Maximize Z=4x1+3x2 Subject to 2x1+x2 ≤ 1000 x1+x2 ≤ 800 x1 ≤ 400 x2 ≤ 700, x1,x2 ≥0"
      ],
      "metadata": {
        "id": "66eosemlaCzX"
      }
    },
    {
      "cell_type": "code",
      "source": [
        "obj = [-4, -3]\n",
        "lhs_ineq = [[2, 1],[1, 1]]\n",
        "rhs_ineq = [1000, 800]\n",
        "bnd = [(0, 400), (0, 700)]\n",
        "opt = linprog(c=obj, A_ub=lhs_ineq, b_ub=rhs_ineq, bounds=bnd, method=\"revised simplex\")\n",
        "opt"
      ],
      "metadata": {
        "colab": {
          "base_uri": "https://localhost:8080/"
        },
        "id": "Rg_lnN-eaEHq",
        "outputId": "fc57825d-3950-4310-ff22-dbfdf6a34e2a"
      },
      "execution_count": 5,
      "outputs": [
        {
          "output_type": "execute_result",
          "data": {
            "text/plain": [
              "     con: array([], dtype=float64)\n",
              "     fun: -2600.0\n",
              " message: 'Optimization terminated successfully.'\n",
              "     nit: 3\n",
              "   slack: array([0., 0.])\n",
              "  status: 0\n",
              " success: True\n",
              "       x: array([200., 600.])"
            ]
          },
          "metadata": {},
          "execution_count": 5
        }
      ]
    }
  ]
}